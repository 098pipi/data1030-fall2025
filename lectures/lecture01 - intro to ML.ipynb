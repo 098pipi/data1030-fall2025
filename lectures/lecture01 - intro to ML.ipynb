{
 "cells": [
  {
   "cell_type": "markdown",
   "metadata": {},
   "source": [
    "# <center>Welcome to DATA1030: Hands-on data science</center>\n",
    "\n",
    "### <center>**Instructor**: Andras Zsom</center>\n",
    "\n",
    "### <center>**HTA**:  Asher Labovich</center>\n",
    "\n",
    "### <center>**TAs**: Sarah Bao, Junhui Huang, John Farrell, Penggao Gu, Shiyu Liu,</center>\n",
    "### <center>Yicen Ye, Zhaocheng (Harry) Yang, Huaxing Zeng, Devraj Raghuvanshi</center>\n"
   ]
  },
  {
   "cell_type": "markdown",
   "metadata": {},
   "source": [
    "## What is classification?\n",
    "\n",
    "Let’s assume I move to a tropical island and I never had papayas before.\n",
    "\n",
    "How could I figure out which papayas I’ll like?\n",
    "\n",
    "- Step 1: Inspect the papaya and collect data (e.g., color, firmness, weight), try some papayas and write down whether I like them (1) or not (0).\n",
    "- **Step 2: Train a machine learning model on the data.** \n",
    "- Step 3: Deployment, act based on the model's predictions:\n",
    "    - When I get a new papaya, run the model on it to get a prediction.\n",
    "    - If the model predicts that I’ll like the papaya, eat. (I might still eat bad papayas but hopefully not too often)\n",
    "    - Otherwise, discard. (I might discard tasty papayas hopefully not too often)\n"
   ]
  },
  {
   "cell_type": "markdown",
   "metadata": {},
   "source": [
    "## Feature matrix and target variable\n",
    "\n",
    "- The papaya properties (column names) and the collected values for individual papayas is the feature matrix (X).\n",
    "- Wheter I find a papaya tasty (1) or not (0) is the target variable (<font color='red'>Y</font>).\n",
    "    - Our ML model predicts the target variable given the feature values.\n",
    " \n",
    "| X|color|firmness|weight (g)|<font color='red'>Y</font>|\n",
    "|-|:-:|:-:|:-:|:-:|\n",
    "|__papaya 1__|yellow|firm|275|__<font color='red'>1</font>__|\n",
    "|__papaya 2__|brown|soft|290|__<font color='red'>0</font>__|\n",
    "|__...__|...|...|...|__<font color='red'>...</font>__|\n",
    "|__papaya i__|yellow|soft|260|__<font color='red'>1</font>__|\n",
    "|__...__|...|...|...|__<font color='red'>...</font>__|\n",
    "|__papaya n__|green|hard|200|__<font color='red'>0</font>__|\n"
   ]
  },
  {
   "cell_type": "markdown",
   "metadata": {},
   "source": [
    "## Quiz\n",
    "- What other data/info could you collect on the papayas?"
   ]
  },
  {
   "cell_type": "markdown",
   "metadata": {},
   "source": [
    "## Notice all the decisions I made!\n",
    "\n",
    "- I decided which features I collect and how I represent each feature.\n",
    "- I decided how to represent my target variable.\n",
    "\n",
    "These (conscious or uncoscious) decisions often make or break an ML project!\n",
    "    - Think carefully about what data you collect and why!\n",
    "    - Think carefully about how you represent data!\n",
    "\n",
    "There are several ways I could solve this task which changes the properties of the feature matrix, target variable, and the ML problem!"
   ]
  },
  {
   "cell_type": "markdown",
   "metadata": {},
   "source": [
    "## Feature matrix: structured vs. unstructured datasets\n",
    "\n",
    "The feautre matrix above is **structured data** because it is tabular so it can be stored in an excel/csv/SQL table. \n",
    "- each data point / sample is described in an identical way\n",
    "- the first value is always the color, the second value is the firmness, and the third value is the weight in grams.\n",
    "\n",
    "Datasets are sometimes **unstructured**! \n",
    "\n",
    "Some examples of unstructured data:\n",
    "- images: image size can vary from sample to sample\n",
    "- text: the length of documents vary from sample to sample\n",
    "- videos\n",
    "- voice recordings"
   ]
  },
  {
   "cell_type": "markdown",
   "metadata": {},
   "source": [
    "## Target variable: classification vs. regression\n",
    "\n",
    "**Binary classification:**\n",
    "- Task is expressed as a yes (1) or no (0) question.\n",
    "- Is this papaya tasty? Yes or no?\n",
    "- Will the customer click on my ad? Yes or no?\n",
    "- Does the patient have cancer? Yes or no?\n",
    "- Should this person be hired? Yes or no?\n",
    "- Will it rain tomorrow? Yes or no?\n",
    "\n",
    "**Multiclass classification:**\n",
    "- Task is expressed as a multiple choice question. Possible answers are independent categories.\n",
    "- What is the topic of this article? Politics, economy, science, fashion, pop culture?\n",
    "- What animal is on this picture? Lion, tiger, elephant, giraffe, etc?\n",
    "- What's the emotional state of the person who wrote this tweet? Sad, happy, confused, angry, neutral?\n",
    "\n",
    "**Ordinal regression/classification:**\n",
    "- Task is expressed as a multiple choice question. Possible answers are an ordered list of categories.\n",
    "- On a scale of 1-5, how much do I like the papaya?\n",
    "- How satisfied is the customer based on the recorded call? Not at all < somewhat < satisfied < very satisfied?\n",
    "- How happy is the customer who left a review? very unhappy < somewhat unhappy < neutral < somewhat happy < very happy\n",
    "\n",
    "**Regression:**\n",
    "- Task is expressed such that the answer to the question is on a continuous scale. The scale could be bound on one or both ends but not required. The quantity we predict could have a physical unit. If it does, the unit needs to be clearly decribed!\n",
    "- What will the temperature be tomorrow? The number depends on whether the temperature is measured in Fahrenheit, Celsius, or Kelvin. The unit must be disclosed!\n",
    "- What will the bitcoin price be an hour from now? The number depends on whether price is in USD, EUR, HUF, etc. The unit must be disclosed!\n",
    "- How much will it rain tomorrow? In what unit is this expressed?\n",
    "- What will be the sale price of this house? The number depends on whether price is in USD, EUR, HUF, etc. The unit must be disclosed!"
   ]
  },
  {
   "cell_type": "markdown",
   "metadata": {},
   "source": [
    "## Quiz\n",
    "- What type of feature matrix and target variable do we work with in the problems below?"
   ]
  },
  {
   "cell_type": "markdown",
   "metadata": {},
   "source": [
    "## The AI landscape\n",
    "\n",
    "All examples described so far were supersived ML problems!\n",
    "- we collect some data (feature matrix and one target variable)\n",
    "- train a model to predict the target variable for previously unseen data\n",
    "- we act based on the predictions.\n",
    "\n",
    "This is but one area of AI! Let's zoom out!\n",
    "\n",
    "<center><img src=\"../figures/AI_landscape.png\" width=\"600\"></center>"
   ]
  },
  {
   "cell_type": "markdown",
   "metadata": {},
   "source": [
    "## Learning objectives\n",
    "By the end of the semester, you will be able to\n",
    "- explore and visualize the dataset,\n",
    "- develop a ML pipeline from scratch to deployment,\n",
    "- make data-driven decisions during the pipeline development,\n",
    "- handle non-standard ML problems like missing data, non-iid data,\n",
    "- provide explanations with your model,\n",
    "- explain your findings to technical and non-technical audiences."
   ]
  },
  {
   "cell_type": "markdown",
   "metadata": {},
   "source": [
    "# The supervised ML pipeline\n",
    "\n",
    "We will follow these steps during the course!\n",
    "\n",
    "**0. Data collection/manipulation**: you might have multiple data sources and/or you might have more data than you need\n",
    "   - you need to be able to read in datasets from various sources (like csv, excel, SQL, parquet, etc)\n",
    "   - you need to be able to filter the columns/rows you need for your ML model\n",
    "   - you need to be able to combine the datasets into one dataframe \n",
    "\n",
    "**1. Exploratory Data Analysis (EDA)**: you need to understand your data and verify that it doesn't contain errors\n",
    "   - do as much EDA as you can!\n",
    "    \n",
    "**2. Split the data into different sets**: most often the sets are train, validation, and test (or holdout)\n",
    "   - practitioners often make errors in this step!\n",
    "   - you can split the data randomly, based on groups, based on time, or any other non-standard way if necessary to answer your ML question\n",
    "\n",
    "**3. Preprocess the data**: ML models only work if X and Y are numbers! Some ML models additionally require each feature to have 0 mean and 1 standard deviation (standardized features)\n",
    "   - often the original features you get contain strings (for example a gender feature would contain 'male', 'female', 'non-binary', 'unknown') which needs to be transformed into numbers\n",
    "   - often the features are not standardized (e.g., age is between 0 and 100) but it needs to be standardized\n",
    "    \n",
    "**4. Choose an evaluation metric**: depends on the priorities of the stakeholders\n",
    "   - often requires quite a bit of thinking and ethical considerations\n",
    "     \n",
    "**5. Choose one or more ML techniques**: it is highly recommended that you try multiple models\n",
    "   - start with simple models like linear or logistic regression\n",
    "   - try also more complex models like nearest neighbors, support vector machines, random forest, etc.\n",
    "    \n",
    "**6. Tune the hyperparameters of your ML models (aka cross-validation or hyperparameter tuning)**\n",
    "   - ML techniques have hyperparameters that you need to optimize to achieve best performance\n",
    "   - for each ML model, decide which parameters to tune and what values to try\n",
    "   - loop through each parameter combination\n",
    "       - train one model for each parameter combination\n",
    "       - evaluate how well the model performs on the validation set\n",
    "   - take the parameter combo that gives the best validation score\n",
    "   - evaluate that model on the test set to report how well the model is expected to perform on previously unseen data\n",
    "    \n",
    "**7. Interpret your model**: black boxes are often not useful\n",
    "   - check if your model uses features that make sense (excellent tool for debugging)\n",
    "   - often model predictions are not enough, you need to be able to explain how the model arrived to a particular prediction (e.g., in health care)"
   ]
  },
  {
   "cell_type": "markdown",
   "metadata": {},
   "source": [
    "# A few notes on course policies\n",
    "\n",
    "- Please read and make sure you understan the syllabus on [canvas](https://canvas.brown.edu/courses/1099954)!\n",
    "- **Course structure and grading**\n",
    "    - 45% weekly problem sets\n",
    "    - 40% final project\n",
    "    - 5% inclass quizzes graded for completion, not correctness!\n",
    "    - 10% final exam\n",
    "- **Course policies**\n",
    "    - if you submit after the deadline, it is a late submission\n",
    "    - late submission is possible for no later than 3 days after the deadline\n",
    "    - you have 6 days (144 hours) of penalty-free late submissions\n",
    "    - documentation (doctor's note, Dean's note, SAS letter) is required for all accommodations!\n",
    "- **GenAI policy**\n",
    "    - responsible use of GenAI:\n",
    "        - you start to solve a coding problem but encounter an error message or a bug you don't know how to fix, you can GenAI for help\n",
    "        - you answer an essay question and ask GenAI to fix the grammar or improve style or clarity\n",
    "    - You can use GenAI more broadly if you\n",
    "        - cite the tool used\n",
    "        - include an explanation on how you used the tool (i.e., link to the chat)\n",
    "        - document your own contributions vs. the tool's contribution\n",
    "    - You are graded based on your own contributions!  "
   ]
  },
  {
   "cell_type": "markdown",
   "metadata": {},
   "source": [
    "# Mud card"
   ]
  },
  {
   "cell_type": "code",
   "execution_count": null,
   "metadata": {},
   "outputs": [],
   "source": []
  }
 ],
 "metadata": {
  "kernelspec": {
   "display_name": "Python 3 (ipykernel)",
   "language": "python",
   "name": "python3"
  },
  "language_info": {
   "codemirror_mode": {
    "name": "ipython",
    "version": 3
   },
   "file_extension": ".py",
   "mimetype": "text/x-python",
   "name": "python",
   "nbconvert_exporter": "python",
   "pygments_lexer": "ipython3",
   "version": "3.12.10"
  }
 },
 "nbformat": 4,
 "nbformat_minor": 4
}
