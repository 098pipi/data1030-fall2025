{
 "cells": [
  {
   "attachments": {},
   "cell_type": "markdown",
   "metadata": {},
   "source": [
    "# Mudcard\n",
    "- **For the w-vector concept in the very end of the class, I'm wondering why does 2 vector of the same direction, different length, give 2 different 2 function values? For example, w = [2,-1.8] gives cost = 0.4, and w = [1,-0.9] gives cost = 0.43**\n",
    "    - Great question!\n",
    "    - The direction of the w vector determines where the decision boundary is because the decision boundary is perpendicular to w\n",
    "    - The length of w determines the 'confidence' of the predictions\n",
    "        - the predicted probability is determined by the distance from the decision bounday\n",
    "        - the longer w is, the lest distance you need to go from the decision boundary to reach a p predicted probability\n",
    "    - in the logloss metric, the cost doesn't just depend on the boundary (i.e., whether points are on the right or wrong side of the boundary)\n",
    "    - the cost depends on the probabilities, which translates to the distance from the decision boundary\n",
    "- **why the cost function of logistic regression has two scenarios: y_true = 0 and y_true = 1. The range of y is (0,1).Why it only has two options?**\n",
    "    - that's how the true target variable is defined in binary classification.\n",
    "    - I either find a papaya tasty (y_true = 1) or not (y_true = 0).\n",
    "    - You can define y_true differently and we did already when we covered liner regression (y_true was continuous then)\n",
    "- **Is there a reason why logistic regression is called 'regression' or was it arbitrary?**\n",
    "    - regression back in the mid-20th century was defined more broadly than today, it meant predicting an outcome\n",
    "    - the sigmoid function is also called the logistic function\n",
    "    - these two bits combined explain why it is called logistic regression but it is used for classification\n",
    "- **\"I'm not sure what the two features of w is in the line 'w = [2,-2] # notice that w has two components and we have two features'. what does this mean?**\n",
    "    - we calculate <w,X> so we have a w component per variable in our dataset\n",
    "    - read more about the dot product and its meaning [here](https://en.wikipedia.org/wiki/Dot_product)\n",
    "- **I'm wonder the logistic metric is telling the probability of what feature?**\n",
    "    - not a feature, the target variable\n",
    "- **Once I see the function sign, I get trouble - how much of the exact math do we need to know for the in-person final or should we focus on the application or code? I know how linear and logistic regression is applied but it gets muddy with the equations.**\n",
    "- **I feel that the class time is not enough for me to truly understand every line of code, including some functions that I'm not familiar with**\n",
    "- **I am confused on whether the equations were just given to us for the purpose of understanding the background or if we need to know these equations in the back of our mind. I am confused about how to translate the math equations into the code we are working on.**\n",
    "    - see my post on [Ed](https://edstem.org/us/courses/83381/discussion/7013476)\n"
   ]
  },
  {
   "cell_type": "markdown",
   "metadata": {
    "slideshow": {
     "slide_type": "slide"
    }
   },
   "source": [
    "# <center> Lecture 8: Polynomial regression and regularization</center>\n",
    "\n",
    "By the end of this lecture, you will be able to\n",
    "- Describe why regularization is important and what are the two types of regularization\n",
    "- Describe how regularized linear regression works\n",
    "- Describe how regularized logistic regression works\n"
   ]
  },
  {
   "cell_type": "markdown",
   "metadata": {},
   "source": [
    "## <font color='LIGHTGRAY'>Regularization</font>\n",
    "\n",
    "<font color='LIGHTGRAY'>By the end of this lecture, you will be able to</font>\n",
    "- **Describe why regularization is important and what are the two types of regularization**\n",
    "- <font color='LIGHTGRAY'>Describe how regularized linear regression works</font>\n",
    "- <font color='LIGHTGRAY'>Describe how regularized logistic regression works</font>\n"
   ]
  },
  {
   "cell_type": "markdown",
   "metadata": {
    "slideshow": {
     "slide_type": "slide"
    }
   },
   "source": [
    "# Polynomial regression\n",
    "## Let's work with a new example dataset"
   ]
  },
  {
   "cell_type": "code",
   "execution_count": 16,
   "metadata": {
    "slideshow": {
     "slide_type": "-"
    }
   },
   "outputs": [
    {
     "name": "stdout",
     "output_type": "stream",
     "text": [
      "(40, 1)\n",
      "(40,)\n"
     ]
    },
    {
     "data": {
      "image/png": "[encoded data removed]",
      "text/plain": [
       "<Figure size 500x300 with 1 Axes>"
      ]
     },
     "metadata": {},
     "output_type": "display_data"
    }
   ],
   "source": [
    "# load packages \n",
    "import numpy as np\n",
    "import matplotlib.pyplot as plt\n",
    "import pandas as pd\n",
    "from sklearn.preprocessing import PolynomialFeatures\n",
    "import matplotlib\n",
    "matplotlib.rcParams.update({'font.size': 11})\n",
    "\n",
    "df = pd.read_csv('../data/regularization_example.csv')\n",
    "X_ori = df['x0'].values.reshape(-1, 1)\n",
    "y = df['y'].values\n",
    "print(np.shape(X_ori))\n",
    "print(np.shape(y))\n",
    "\n",
    "# visualize the data\n",
    "plt.figure(figsize=(5,3))\n",
    "plt.scatter(X_ori,y)\n",
    "plt.xlabel('feature')\n",
    "plt.ylabel('target variable')\n",
    "plt.show()"
   ]
  },
  {
   "cell_type": "code",
   "execution_count": 17,
   "metadata": {
    "slideshow": {
     "slide_type": "-"
    }
   },
   "outputs": [
    {
     "name": "stdout",
     "output_type": "stream",
     "text": [
      "(40, 20)\n",
      "['x0' 'x0^2' 'x0^3' 'x0^4' 'x0^5' 'x0^6' 'x0^7' 'x0^8' 'x0^9' 'x0^10'\n",
      " 'x0^11' 'x0^12' 'x0^13' 'x0^14' 'x0^15' 'x0^16' 'x0^17' 'x0^18' 'x0^19'\n",
      " 'x0^20']\n"
     ]
    }
   ],
   "source": [
    "# lets generate more features because a linear model will obviously be insufficient to fit the data well\n",
    "pf = PolynomialFeatures(degree = 20,include_bias=False)\n",
    "X = pf.fit_transform(X_ori)\n",
    "print(np.shape(X))\n",
    "print(pf.get_feature_names_out())"
   ]
  },
  {
   "cell_type": "markdown",
   "metadata": {
    "slideshow": {
     "slide_type": "subslide"
    }
   },
   "source": [
    "## We split data into train and validation!"
   ]
  },
  {
   "cell_type": "code",
   "execution_count": 18,
   "metadata": {},
   "outputs": [
    {
     "name": "stdout",
     "output_type": "stream",
     "text": [
      "(32, 20) (32,)\n",
      "(8, 20) (8,)\n"
     ]
    }
   ],
   "source": [
    "from sklearn.model_selection import train_test_split\n",
    "X_train, X_val, y_train, y_val = train_test_split(X, y, test_size=0.2, random_state=1)\n",
    "print(np.shape(X_train),np.shape(y_train))\n",
    "print(np.shape(X_val),np.shape(y_val))"
   ]
  },
  {
   "cell_type": "markdown",
   "metadata": {
    "slideshow": {
     "slide_type": "subslide"
    }
   },
   "source": [
    "## Let's train and validate some linear regression models\n",
    "\n",
    "### Use the first feature only"
   ]
  },
  {
   "cell_type": "code",
   "execution_count": 19,
   "metadata": {},
   "outputs": [
    {
     "name": "stdout",
     "output_type": "stream",
     "text": [
      "intercept: 0.8018842867499774\n",
      "w: [-2.08151827]\n",
      "train MSE: 0.13964692457239297\n",
      "val MSE: 0.1714251606233729\n"
     ]
    },
    {
     "data": {
      "image/png": "[encoded data removed]",
      "text/plain": [
       "<Figure size 500x300 with 1 Axes>"
      ]
     },
     "metadata": {},
     "output_type": "display_data"
    }
   ],
   "source": [
    "from sklearn.linear_model import LinearRegression\n",
    "from sklearn.metrics import mean_squared_error\n",
    "\n",
    "# let's use only the first feature\n",
    "linreg = LinearRegression(fit_intercept=True)\n",
    "linreg.fit(X_train[:,:1], y_train)\n",
    "print('intercept:',linreg.intercept_)\n",
    "print('w:',linreg.coef_)\n",
    "\n",
    "train_MSE = mean_squared_error(y_train,linreg.predict(X_train[:,:1]))\n",
    "val_MSE = mean_squared_error(y_val,linreg.predict(X_val[:,:1]))\n",
    "print('train MSE:',train_MSE)\n",
    "print('val MSE:',val_MSE)\n",
    "\n",
    "\n",
    "# let's visualuze the model\n",
    "x_model = np.linspace(0,1,100)\n",
    "plt.figure(figsize=(5,3))\n",
    "plt.scatter(X_train[:,0],y_train,color='k',label='training set')\n",
    "plt.scatter(X_val[:,0],y_val,color='r',label='validation set')\n",
    "plt.plot(x_model,linreg.predict(x_model.reshape(-1,1)),color='k',label='prediction')\n",
    "plt.xlabel('feature')\n",
    "plt.ylabel('target variable')\n",
    "plt.legend()\n",
    "plt.show()\n"
   ]
  },
  {
   "cell_type": "markdown",
   "metadata": {},
   "source": [
    "### Use all features"
   ]
  },
  {
   "cell_type": "code",
   "execution_count": 20,
   "metadata": {
    "slideshow": {
     "slide_type": "subslide"
    }
   },
   "outputs": [
    {
     "name": "stdout",
     "output_type": "stream",
     "text": [
      "intercept: 1.0123143561425278\n",
      "ws: [-1.96093294e+01  2.36513626e+03 -1.07393992e+05  2.50225090e+06\n",
      " -3.53253437e+07  3.31465492e+08 -2.18900095e+09  1.05456431e+10\n",
      " -3.78267222e+10  1.01733036e+11 -2.03422807e+11  2.92186021e+11\n",
      " -2.71104618e+11  9.03890007e+10  1.56380017e+11 -2.94809458e+11\n",
      "  2.54968343e+11 -1.30001762e+11  3.76756544e+10 -4.82188511e+09]\n",
      "train MSE: 0.002222765866268214\n",
      "val MSE: 0.03332565989620885\n"
     ]
    },
    {
     "data": {
      "image/png": "[encoded data removed]",
      "text/plain": [
       "<Figure size 500x300 with 1 Axes>"
      ]
     },
     "metadata": {},
     "output_type": "display_data"
    }
   ],
   "source": [
    "from sklearn.linear_model import LinearRegression\n",
    "from sklearn.metrics import mean_squared_error\n",
    "\n",
    "# use all features\n",
    "linreg = LinearRegression(fit_intercept=True)\n",
    "linreg.fit(X_train, y_train)\n",
    "print('intercept:',linreg.intercept_)\n",
    "print('ws:',linreg.coef_)\n",
    "\n",
    "train_MSE = mean_squared_error(y_train,linreg.predict(X_train))\n",
    "val_MSE = mean_squared_error(y_val,linreg.predict(X_val))\n",
    "print('train MSE:',train_MSE)\n",
    "print('val MSE:',val_MSE)\n",
    "\n",
    "\n",
    "# let's visualuze the model\n",
    "x_model = np.linspace(0,1,1000)\n",
    "plt.figure(figsize=(5,3))\n",
    "plt.scatter(X_train[:,0],y_train,color='k',label='training set')\n",
    "plt.scatter(X_val[:,0],y_val,color='r',label='validation set')\n",
    "plt.plot(x_model,linreg.predict(pf.transform(x_model.reshape(-1,1))),color='k',label='prediction')\n",
    "plt.ylim([-1,1])\n",
    "plt.xlabel('feature')\n",
    "plt.ylabel('target variable')\n",
    "plt.legend()\n",
    "plt.show()\n"
   ]
  },
  {
   "cell_type": "markdown",
   "metadata": {},
   "source": [
    "## What to do?\n",
    "- the model is visibly performs poorly when only the original feature is used\n",
    "- the model performs very good on the training set but poorly on the validation set when all features are used\n",
    "    - the ws are huge!\n",
    "\n",
    "## Regulazation solves this problem!\n"
   ]
  },
  {
   "cell_type": "markdown",
   "metadata": {},
   "source": [
    "## <font color='LIGHTGRAY'>Regularization</font>\n",
    "\n",
    "<font color='LIGHTGRAY'>By the end of this lecture, you will be able to</font>\n",
    "- <font color='LIGHTGRAY'>Describe why regularization is important and what are the two types of regularization</font>\n",
    "- **Describe how regularized linear regression works**\n",
    "- <font color='LIGHTGRAY'>Describe how regularized logistic regression works</font>\n"
   ]
  },
  {
   "cell_type": "markdown",
   "metadata": {
    "slideshow": {
     "slide_type": "subslide"
    }
   },
   "source": [
    "## Regularization to the rescue!\n",
    "- let's change the cost function and add a <font color='RED'>penalty term</font> for large ws\n",
    "- **Lasso regression**: regularize using the l1 norm of w:\n",
    "   \n",
    "<center>$L(w) = \\frac{1}{m}\\sum_{i=1}^{m}[(w_0 + \\sum_{j=1}^{d} w_j  x_{ij}- y_i)^2] + \\color{red}{ \\alpha \\sum_{j=0}^{d}|w_j|}$</center>   \n",
    "   \n",
    "- **Ridge regression**: regularize using the square of the l2 norm of w:\n",
    "   \n",
    "<center>$L(w) = \\frac{1}{m}\\sum_{i=1}^{m}[(w_0 + \\sum_{j=1}^{d} w_j  x_{ij}- y_i)^2] + \\color{red}{\\alpha \\sum_{j=0}^{d} w_j^2}$</center>\n",
    "\n",
    "- $\\alpha$ is the regularization parameter (positive number), it describes how much we penalize large ws\n",
    "\n",
    "- With the cost function changed, the derivatives in gradient descent need to be updated too!"
   ]
  },
  {
   "cell_type": "markdown",
   "metadata": {
    "slideshow": {
     "slide_type": "subslide"
    }
   },
   "source": [
    "## Feature selection with Lasso regularization\n",
    "- Least Absolute Shrinkage and Selection Operator\n",
    "- cost = MSE + $\\alpha$ * l1 norm of $w$\n",
    "<center>$L(w) = \\frac{1}{m}\\sum_{i=1}^{m}[(w_0 + \\sum_{j=1}^{d} w_j  x_{ij}- y_i)^2] + \\color{red}{ \\alpha \\sum_{j=0}^{d}|w_j|}$</center>  \n",
    "- ideal for feature selection\n",
    "- as $\\alpha$ increases, more and more feature weights are reduced to 0."
   ]
  },
  {
   "cell_type": "code",
   "execution_count": 21,
   "metadata": {
    "slideshow": {
     "slide_type": "subslide"
    }
   },
   "outputs": [],
   "source": [
    "from  sklearn.linear_model import Lasso\n",
    "from sklearn.metrics import mean_squared_error\n",
    "\n",
    "alpha = np.logspace(-7,0,29)\n",
    "ws = []\n",
    "models = []\n",
    "train_MSE = np.zeros(len(alpha))\n",
    "val_MSE = np.zeros(len(alpha))\n",
    "\n",
    "# do the fit\n",
    "for i in range(len(alpha)):\n",
    "    # load the linear regression model\n",
    "    lin_reg = Lasso(alpha=alpha[i],max_iter=100000000)\n",
    "    lin_reg.fit(X_train, y_train)\n",
    "    ws.append(lin_reg.coef_)\n",
    "    models.append(lin_reg)\n",
    "    train_MSE[i] = mean_squared_error(y_train,lin_reg.predict(X_train))\n",
    "    val_MSE[i] = mean_squared_error(y_val,lin_reg.predict(X_val))"
   ]
  },
  {
   "cell_type": "code",
   "execution_count": 22,
   "metadata": {
    "slideshow": {
     "slide_type": "subslide"
    }
   },
   "outputs": [
    {
     "data": {
      "image/png": "[encoded data removed]",
      "text/plain": [
       "<Figure size 500x300 with 1 Axes>"
      ]
     },
     "metadata": {},
     "output_type": "display_data"
    }
   ],
   "source": [
    "plt.figure(figsize=(5,3))\n",
    "plt.plot(alpha, ws)\n",
    "plt.semilogx()\n",
    "plt.xlabel('alpha')\n",
    "plt.ylabel('ws')\n",
    "plt.title('Lasso regression')\n",
    "plt.tight_layout()\n",
    "plt.savefig('../figures/lasso_coefs.png',dpi=300)\n",
    "plt.show()"
   ]
  },
  {
   "cell_type": "code",
   "execution_count": 23,
   "metadata": {},
   "outputs": [
    {
     "data": {
      "image/png": "[encoded data removed]",
      "text/plain": [
       "<Figure size 500x300 with 1 Axes>"
      ]
     },
     "metadata": {},
     "output_type": "display_data"
    }
   ],
   "source": [
    "plt.figure(figsize=(5,3))\n",
    "plt.plot(alpha,train_MSE,label='train score')\n",
    "plt.plot(alpha,val_MSE,label='val score')\n",
    "plt.semilogy()\n",
    "plt.semilogx()\n",
    "plt.xlabel('alpha')\n",
    "plt.ylabel('MSE')\n",
    "plt.legend()\n",
    "plt.tight_layout()\n",
    "plt.savefig('../figures/train_val_MSE_lasso.png',dpi=300)\n",
    "plt.show()"
   ]
  },
  {
   "cell_type": "markdown",
   "metadata": {},
   "source": [
    "## Bias vs variance\n",
    "- Bias: the model performs poorly on both the train and validation sets\n",
    "    - high alpha in our example\n",
    "- the model performs very well on the training set but it performs poorly on the validation set\n",
    "    - low alpha in our example\n",
    "    - lowering the alpha further would improve the train score but the validation score would increase\n",
    "    - we don't do it because of convergence issues\n",
    "\n",
    "# The bias-variance trade off\n",
    "- the curve of the validation score as a function of a hyper-parameter usually has a U shape if evaluation metric needs to be minimized, or an inverted U if the metric needs to be maximized\n",
    "- choose the hyper-parameter value that gives you the best validation score"
   ]
  },
  {
   "cell_type": "markdown",
   "metadata": {
    "slideshow": {
     "slide_type": "slide"
    }
   },
   "source": [
    "##  Quiz\n",
    "Which alpha value gives the best validation score? Visualize the corresponding model! "
   ]
  },
  {
   "cell_type": "code",
   "execution_count": 36,
   "metadata": {},
   "outputs": [
    {
     "name": "stdout",
     "output_type": "stream",
     "text": [
      "[1.00000000e-07 1.77827941e-07 3.16227766e-07 5.62341325e-07\n",
      " 1.00000000e-06 1.77827941e-06 3.16227766e-06 5.62341325e-06\n",
      " 1.00000000e-05 1.77827941e-05 3.16227766e-05 5.62341325e-05\n",
      " 1.00000000e-04 1.77827941e-04 3.16227766e-04 5.62341325e-04\n",
      " 1.00000000e-03 1.77827941e-03 3.16227766e-03 5.62341325e-03\n",
      " 1.00000000e-02 1.77827941e-02 3.16227766e-02 5.62341325e-02\n",
      " 1.00000000e-01 1.77827941e-01 3.16227766e-01 5.62341325e-01\n",
      " 1.00000000e+00]\n",
      "[0.01338448 0.01309451 0.01287111 0.01262066 0.01225013 0.01203405\n",
      " 0.01197593 0.01193075 0.01175587 0.0118109  0.01202519 0.01225549\n",
      " 0.0132055  0.01469088 0.0173341  0.02170684 0.02463496 0.02657118\n",
      " 0.03076408 0.04111323 0.06004434 0.10825084 0.20888887 0.24393615\n",
      " 0.31899593 0.4927477  0.49768979 0.49768979 0.49768979]\n",
      "[1.e-05]\n",
      "1e-05\n"
     ]
    }
   ],
   "source": [
    "# your code here\n",
    "print(alpha)\n",
    "print(val_MSE)\n",
    "print(alpha[val_MSE == np.min(val_MSE)])\n",
    "# or equivalently\n",
    "print(alpha[np.argmin(val_MSE)])"
   ]
  },
  {
   "attachments": {},
   "cell_type": "markdown",
   "metadata": {},
   "source": [
    "# Mudcard from previous lecture\n",
    "- **will we be expected to memorize scikit learn functions (e.g. argmin) for the midterm and future assignments? maybe it's because it's new, but i struggled with the coding question today in lecture**\n",
    "    - Yes, you sohuld know what np.argmin and np.armmax are used for\n",
    "- **Could you please go over Quiz 1 again? I printed alpha[np.argmin(val_MSE)] and got 1e-07**\n",
    "    - I think we found the bug after the lecture, right?\n",
    "- **how to determine the value of alpha?**\n",
    "    - We are looking for the alpha when the vlaidation score is optimized\n",
    "- **Could you explain the math behind lasso regularization further?**\n",
    "- **I am curious how you interpret the Lasso regression graph that we printed out?**\n",
    "- **How do you recommend we learn and familiarize ourselves with the Lasso and Ride regressions? I felt those were a little rushed.**\n",
    "- **I'm still a bit confused on how to read the Lasso regression plot. What does it mean when the alpha value is larger and what does it mean when the alpha is smaller? What does it mean when all coefficients shrink to zero?**\n",
    "    - We will go through that again today\n",
    "- **what are best uses of lasso vs ridge regression?**\n",
    "    - They are both different ways to handle model complexity\n",
    "    - Ridge is also used for feature selection\n",
    "- **Do we need to memorize the equations for the final? Will we get an example final exam or what to expect?**\n",
    "    - Yes, you are expected to know the equations\n",
    "    - I'll provide some example questions\n",
    "- **how do know which method should I use of two regularizations?**\n",
    "    - If in doubt, use both.\n",
    "    - Generally speaking, you'll see that we will apply as many ML methods as we can on a dataset\n",
    "    - Start with the linear models, and then move on to more complex non-linear models"
   ]
  },
  {
   "cell_type": "markdown",
   "metadata": {
    "slideshow": {
     "slide_type": "subslide"
    }
   },
   "source": [
    "## The bias-variance tradeoff with Ridge regularization\n",
    "- cost = MSE + $\\alpha$ * (l2 norm of $w$)^2\n",
    "<center>$L(w) = \\frac{1}{m}\\sum_{i=1}^{m}[(w_0 + \\sum_{j=1}^{d} w_j  x_{ij}- y_i)^2] + \\color{red}{\\alpha \\sum_{j=0}^{d} w_j^2}$</center>\n",
    "\n",
    "- as $\\alpha$ approaches 0, we reproduce the linear regression weights\n",
    "- small $\\alpha$ creates high variance\n",
    "- large $\\alpha$ creates high bias"
   ]
  },
  {
   "cell_type": "code",
   "execution_count": 37,
   "metadata": {
    "slideshow": {
     "slide_type": "subslide"
    }
   },
   "outputs": [],
   "source": [
    "from  sklearn.linear_model import Ridge\n",
    "from sklearn.metrics import mean_squared_error\n",
    "\n",
    "alpha = np.logspace(-10,0,51)\n",
    "\n",
    "# arrays to save train and test MSE scores\n",
    "train_MSE = np.zeros(len(alpha))\n",
    "val_MSE = np.zeros(len(alpha))\n",
    "\n",
    "ws = []\n",
    "models = []\n",
    "# do the fit\n",
    "for i in range(len(alpha)):\n",
    "    # load the linear regression model\n",
    "    lin_reg = Ridge(alpha=alpha[i])\n",
    "    lin_reg.fit(X_train, y_train)\n",
    "    models.append(lin_reg)\n",
    "    ws.append(lin_reg.coef_)\n",
    "    # train and test scores\n",
    "    train_MSE[i] = mean_squared_error(y_train,lin_reg.predict(X_train))\n",
    "    val_MSE[i] = mean_squared_error(y_val,lin_reg.predict(X_val))"
   ]
  },
  {
   "cell_type": "code",
   "execution_count": 40,
   "metadata": {
    "slideshow": {
     "slide_type": "subslide"
    }
   },
   "outputs": [
    {
     "data": {
      "image/png": "[encoded data removed]",
      "text/plain": [
       "<Figure size 500x300 with 1 Axes>"
      ]
     },
     "metadata": {},
     "output_type": "display_data"
    }
   ],
   "source": [
    "plt.figure(figsize=(5,3))\n",
    "plt.plot(alpha, ws) \n",
    "plt.semilogx()\n",
    "plt.ylim([-1e3,1e3])\n",
    "plt.xlabel('alpha')\n",
    "plt.ylabel('ws')\n",
    "plt.title('Ridge regression')\n",
    "plt.tight_layout()\n",
    "plt.savefig('../figures/ridge_coefs.png',dpi=300)\n",
    "plt.show()"
   ]
  },
  {
   "cell_type": "code",
   "execution_count": 12,
   "metadata": {
    "slideshow": {
     "slide_type": "subslide"
    }
   },
   "outputs": [
    {
     "data": {
      "image/png": "[encoded data removed]",
      "text/plain": [
       "<Figure size 500x300 with 1 Axes>"
      ]
     },
     "metadata": {},
     "output_type": "display_data"
    }
   ],
   "source": [
    "plt.figure(figsize=(5,3))\n",
    "plt.plot(alpha,train_MSE,label='train score')\n",
    "plt.plot(alpha,val_MSE,label='val score')\n",
    "plt.semilogy()\n",
    "plt.semilogx()\n",
    "plt.xlabel('alpha')\n",
    "plt.ylabel('MSE cost function')\n",
    "plt.legend()\n",
    "plt.tight_layout()\n",
    "plt.savefig('../figures/train_val_MSE_ridge.png',dpi=300)\n",
    "plt.show()"
   ]
  },
  {
   "cell_type": "markdown",
   "metadata": {
    "slideshow": {
     "slide_type": "subslide"
    }
   },
   "source": [
    "## Quiz\n",
    "Which $\\alpha$ gives us the best tradeoff between bias and variance?"
   ]
  },
  {
   "cell_type": "code",
   "execution_count": 13,
   "metadata": {},
   "outputs": [],
   "source": [
    "# your code here:\n",
    "\n"
   ]
  },
  {
   "cell_type": "markdown",
   "metadata": {
    "slideshow": {
     "slide_type": "slide"
    }
   },
   "source": [
    "## <font color='LIGHTGRAY'>Regularization</font>\n",
    "\n",
    "<font color='LIGHTGRAY'>By the end of this lecture, you will be able to</font>\n",
    "- <font color='LIGHTGRAY'>Describe why regularization is important and what are the two types of regularization</font>\n",
    "- <font color='LIGHTGRAY'>Describe how regularized linear regression works</font>\n",
    "- **Describe how regularized logistic regression works**\n",
    "\n",
    "\n",
    "\n"
   ]
  },
  {
   "cell_type": "markdown",
   "metadata": {
    "slideshow": {
     "slide_type": "subslide"
    }
   },
   "source": [
    "## Logistic regression\n",
    "- Recap: the logloss metric is the cost function\n",
    "\n",
    "<center>$L(w) = - \\frac{1}{m}\\sum_{i=1}^{m} [y_i\\ln(y_i') + (1-y_i)\\ln(1-y_i')]$ </center>\n",
    "<center>$L(w) =  - \\frac{1}{m}\\sum_{i=1}^{m} [y_i\\ln(\\frac{1}{1+e^{-w_0 + \\sum_{j=1}^{d} w_j  x_{ij}}}) + (1-y_i)\\ln(1-\\frac{1}{1+e^{-w_0 + \\sum_{j=1}^{d} w_j  x_{ij}}})]$</center>"
   ]
  },
  {
   "cell_type": "markdown",
   "metadata": {
    "slideshow": {
     "slide_type": "subslide"
    }
   },
   "source": [
    "   - the logloss metric with l1 regularization\n",
    "\n",
    "<center>$L(w) = - \\frac{1}{m}\\sum_{i=1}^{m} [y_i\\ln(\\frac{1}{1+e^{-w_0 + \\sum_{j=1}^{d} w_j  x_{ij}}}) + (1-y_i)\\ln(1-\\frac{1}{1+e^{-w_0 + \\sum_{j=1}^{d} w_j  x_{ij}}}))] + \\color{red}{ \\alpha \\sum_{j=0}^{d}|w_j|}$</center>\n",
    "\n",
    "   - the logloss metric with l2 regularization\n",
    "\n",
    "<center>$L(w) = - \\frac{1}{m}\\sum_{i=1}^{m} [y_i\\ln(\\frac{1}{1+e^{-w_0 + \\sum_{j=1}^{d} w_j  x_{ij}}}) + (1-y_i)\\ln(1-\\frac{1}{1+e^{-w_0 + \\sum_{j=1}^{d} w_j  x_{ij}}}))] + \\color{red}{\\alpha \\sum_{j=0}^{d} w_j^2}$</center>"
   ]
  },
  {
   "cell_type": "markdown",
   "metadata": {
    "slideshow": {
     "slide_type": "subslide"
    }
   },
   "source": [
    "## Logistic regression in sklearn"
   ]
  },
  {
   "cell_type": "code",
   "execution_count": 14,
   "metadata": {},
   "outputs": [],
   "source": [
    "from sklearn.linear_model import LogisticRegression\n",
    "\n",
    "log_reg_l1 = LogisticRegression(penalty='l1', C = 1/alpha) # C is the inverse of the regularization strength\n",
    "log_reg_l2 = LogisticRegression(penalty='l2', C = 1/alpha)\n",
    "# fit, predict, predict_proba are available \n",
    "# log_reg.coef_ returns the w values\n"
   ]
  },
  {
   "cell_type": "code",
   "execution_count": 15,
   "metadata": {},
   "outputs": [
    {
     "name": "stdout",
     "output_type": "stream",
     "text": [
      "Help on class LogisticRegression in module sklearn.linear_model._logistic:\n",
      "\n",
      "class LogisticRegression(sklearn.linear_model._base.LinearClassifierMixin, sklearn.linear_model._base.SparseCoefMixin, sklearn.base.BaseEstimator)\n",
      " |  LogisticRegression(penalty='l2', *, dual=False, tol=0.0001, C=1.0, fit_intercept=True, intercept_scaling=1, class_weight=None, random_state=None, solver='lbfgs', max_iter=100, multi_class='deprecated', verbose=0, warm_start=False, n_jobs=None, l1_ratio=None)\n",
      " |\n",
      " |  Logistic Regression (aka logit, MaxEnt) classifier.\n",
      " |\n",
      " |  This class implements regularized logistic regression using the\n",
      " |  'liblinear' library, 'newton-cg', 'sag', 'saga' and 'lbfgs' solvers. **Note\n",
      " |  that regularization is applied by default**. It can handle both dense\n",
      " |  and sparse input. Use C-ordered arrays or CSR matrices containing 64-bit\n",
      " |  floats for optimal performance; any other input format will be converted\n",
      " |  (and copied).\n",
      " |\n",
      " |  The 'newton-cg', 'sag', and 'lbfgs' solvers support only L2 regularization\n",
      " |  with primal formulation, or no regularization. The 'liblinear' solver\n",
      " |  supports both L1 and L2 regularization, with a dual formulation only for\n",
      " |  the L2 penalty. The Elastic-Net regularization is only supported by the\n",
      " |  'saga' solver.\n",
      " |\n",
      " |  For :term:`multiclass` problems, only 'newton-cg', 'sag', 'saga' and 'lbfgs'\n",
      " |  handle multinomial loss. 'liblinear' and 'newton-cholesky' only handle binary\n",
      " |  classification but can be extended to handle multiclass by using\n",
      " |  :class:`~sklearn.multiclass.OneVsRestClassifier`.\n",
      " |\n",
      " |  Read more in the :ref:`User Guide <logistic_regression>`.\n",
      " |\n",
      " |  Parameters\n",
      " |  ----------\n",
      " |  penalty : {'l1', 'l2', 'elasticnet', None}, default='l2'\n",
      " |      Specify the norm of the penalty:\n",
      " |\n",
      " |      - `None`: no penalty is added;\n",
      " |      - `'l2'`: add a L2 penalty term and it is the default choice;\n",
      " |      - `'l1'`: add a L1 penalty term;\n",
      " |      - `'elasticnet'`: both L1 and L2 penalty terms are added.\n",
      " |\n",
      " |      .. warning::\n",
      " |         Some penalties may not work with some solvers. See the parameter\n",
      " |         `solver` below, to know the compatibility between the penalty and\n",
      " |         solver.\n",
      " |\n",
      " |      .. versionadded:: 0.19\n",
      " |         l1 penalty with SAGA solver (allowing 'multinomial' + L1)\n",
      " |\n",
      " |  dual : bool, default=False\n",
      " |      Dual (constrained) or primal (regularized, see also\n",
      " |      :ref:`this equation <regularized-logistic-loss>`) formulation. Dual formulation\n",
      " |      is only implemented for l2 penalty with liblinear solver. Prefer dual=False when\n",
      " |      n_samples > n_features.\n",
      " |\n",
      " |  tol : float, default=1e-4\n",
      " |      Tolerance for stopping criteria.\n",
      " |\n",
      " |  C : float, default=1.0\n",
      " |      Inverse of regularization strength; must be a positive float.\n",
      " |      Like in support vector machines, smaller values specify stronger\n",
      " |      regularization.\n",
      " |\n",
      " |  fit_intercept : bool, default=True\n",
      " |      Specifies if a constant (a.k.a. bias or intercept) should be\n",
      " |      added to the decision function.\n",
      " |\n",
      " |  intercept_scaling : float, default=1\n",
      " |      Useful only when the solver 'liblinear' is used\n",
      " |      and self.fit_intercept is set to True. In this case, x becomes\n",
      " |      [x, self.intercept_scaling],\n",
      " |      i.e. a \"synthetic\" feature with constant value equal to\n",
      " |      intercept_scaling is appended to the instance vector.\n",
      " |      The intercept becomes ``intercept_scaling * synthetic_feature_weight``.\n",
      " |\n",
      " |      Note! the synthetic feature weight is subject to l1/l2 regularization\n",
      " |      as all other features.\n",
      " |      To lessen the effect of regularization on synthetic feature weight\n",
      " |      (and therefore on the intercept) intercept_scaling has to be increased.\n",
      " |\n",
      " |  class_weight : dict or 'balanced', default=None\n",
      " |      Weights associated with classes in the form ``{class_label: weight}``.\n",
      " |      If not given, all classes are supposed to have weight one.\n",
      " |\n",
      " |      The \"balanced\" mode uses the values of y to automatically adjust\n",
      " |      weights inversely proportional to class frequencies in the input data\n",
      " |      as ``n_samples / (n_classes * np.bincount(y))``.\n",
      " |\n",
      " |      Note that these weights will be multiplied with sample_weight (passed\n",
      " |      through the fit method) if sample_weight is specified.\n",
      " |\n",
      " |      .. versionadded:: 0.17\n",
      " |         *class_weight='balanced'*\n",
      " |\n",
      " |  random_state : int, RandomState instance, default=None\n",
      " |      Used when ``solver`` == 'sag', 'saga' or 'liblinear' to shuffle the\n",
      " |      data. See :term:`Glossary <random_state>` for details.\n",
      " |\n",
      " |  solver : {'lbfgs', 'liblinear', 'newton-cg', 'newton-cholesky', 'sag', 'saga'},             default='lbfgs'\n",
      " |\n",
      " |      Algorithm to use in the optimization problem. Default is 'lbfgs'.\n",
      " |      To choose a solver, you might want to consider the following aspects:\n",
      " |\n",
      " |      - For small datasets, 'liblinear' is a good choice, whereas 'sag'\n",
      " |        and 'saga' are faster for large ones;\n",
      " |      - For :term:`multiclass` problems, all solvers except 'liblinear' minimize the\n",
      " |        full multinomial loss;\n",
      " |      - 'liblinear' can only handle binary classification by default. To apply a\n",
      " |        one-versus-rest scheme for the multiclass setting one can wrap it with the\n",
      " |        :class:`~sklearn.multiclass.OneVsRestClassifier`.\n",
      " |      - 'newton-cholesky' is a good choice for\n",
      " |        `n_samples` >> `n_features * n_classes`, especially with one-hot encoded\n",
      " |        categorical features with rare categories. Be aware that the memory usage\n",
      " |        of this solver has a quadratic dependency on `n_features * n_classes`\n",
      " |        because it explicitly computes the full Hessian matrix.\n",
      " |\n",
      " |      .. warning::\n",
      " |         The choice of the algorithm depends on the penalty chosen and on\n",
      " |         (multinomial) multiclass support:\n",
      " |\n",
      " |         ================= ============================== ======================\n",
      " |         solver            penalty                        multinomial multiclass\n",
      " |         ================= ============================== ======================\n",
      " |         'lbfgs'           'l2', None                     yes\n",
      " |         'liblinear'       'l1', 'l2'                     no\n",
      " |         'newton-cg'       'l2', None                     yes\n",
      " |         'newton-cholesky' 'l2', None                     no\n",
      " |         'sag'             'l2', None                     yes\n",
      " |         'saga'            'elasticnet', 'l1', 'l2', None yes\n",
      " |         ================= ============================== ======================\n",
      " |\n",
      " |      .. note::\n",
      " |         'sag' and 'saga' fast convergence is only guaranteed on features\n",
      " |         with approximately the same scale. You can preprocess the data with\n",
      " |         a scaler from :mod:`sklearn.preprocessing`.\n",
      " |\n",
      " |      .. seealso::\n",
      " |         Refer to the :ref:`User Guide <Logistic_regression>` for more\n",
      " |         information regarding :class:`LogisticRegression` and more specifically the\n",
      " |         :ref:`Table <logistic_regression_solvers>`\n",
      " |         summarizing solver/penalty supports.\n",
      " |\n",
      " |      .. versionadded:: 0.17\n",
      " |         Stochastic Average Gradient descent solver.\n",
      " |      .. versionadded:: 0.19\n",
      " |         SAGA solver.\n",
      " |      .. versionchanged:: 0.22\n",
      " |          The default solver changed from 'liblinear' to 'lbfgs' in 0.22.\n",
      " |      .. versionadded:: 1.2\n",
      " |         newton-cholesky solver.\n",
      " |\n",
      " |  max_iter : int, default=100\n",
      " |      Maximum number of iterations taken for the solvers to converge.\n",
      " |\n",
      " |  multi_class : {'auto', 'ovr', 'multinomial'}, default='auto'\n",
      " |      If the option chosen is 'ovr', then a binary problem is fit for each\n",
      " |      label. For 'multinomial' the loss minimised is the multinomial loss fit\n",
      " |      across the entire probability distribution, *even when the data is\n",
      " |      binary*. 'multinomial' is unavailable when solver='liblinear'.\n",
      " |      'auto' selects 'ovr' if the data is binary, or if solver='liblinear',\n",
      " |      and otherwise selects 'multinomial'.\n",
      " |\n",
      " |      .. versionadded:: 0.18\n",
      " |         Stochastic Average Gradient descent solver for 'multinomial' case.\n",
      " |      .. versionchanged:: 0.22\n",
      " |          Default changed from 'ovr' to 'auto' in 0.22.\n",
      " |      .. deprecated:: 1.5\n",
      " |         ``multi_class`` was deprecated in version 1.5 and will be removed in 1.7.\n",
      " |         From then on, the recommended 'multinomial' will always be used for\n",
      " |         `n_classes >= 3`.\n",
      " |         Solvers that do not support 'multinomial' will raise an error.\n",
      " |         Use `sklearn.multiclass.OneVsRestClassifier(LogisticRegression())` if you\n",
      " |         still want to use OvR.\n",
      " |\n",
      " |  verbose : int, default=0\n",
      " |      For the liblinear and lbfgs solvers set verbose to any positive\n",
      " |      number for verbosity.\n",
      " |\n",
      " |  warm_start : bool, default=False\n",
      " |      When set to True, reuse the solution of the previous call to fit as\n",
      " |      initialization, otherwise, just erase the previous solution.\n",
      " |      Useless for liblinear solver. See :term:`the Glossary <warm_start>`.\n",
      " |\n",
      " |      .. versionadded:: 0.17\n",
      " |         *warm_start* to support *lbfgs*, *newton-cg*, *sag*, *saga* solvers.\n",
      " |\n",
      " |  n_jobs : int, default=None\n",
      " |      Number of CPU cores used when parallelizing over classes if\n",
      " |      multi_class='ovr'\". This parameter is ignored when the ``solver`` is\n",
      " |      set to 'liblinear' regardless of whether 'multi_class' is specified or\n",
      " |      not. ``None`` means 1 unless in a :obj:`joblib.parallel_backend`\n",
      " |      context. ``-1`` means using all processors.\n",
      " |      See :term:`Glossary <n_jobs>` for more details.\n",
      " |\n",
      " |  l1_ratio : float, default=None\n",
      " |      The Elastic-Net mixing parameter, with ``0 <= l1_ratio <= 1``. Only\n",
      " |      used if ``penalty='elasticnet'``. Setting ``l1_ratio=0`` is equivalent\n",
      " |      to using ``penalty='l2'``, while setting ``l1_ratio=1`` is equivalent\n",
      " |      to using ``penalty='l1'``. For ``0 < l1_ratio <1``, the penalty is a\n",
      " |      combination of L1 and L2.\n",
      " |\n",
      " |  Attributes\n",
      " |  ----------\n",
      " |\n",
      " |  classes_ : ndarray of shape (n_classes, )\n",
      " |      A list of class labels known to the classifier.\n",
      " |\n",
      " |  coef_ : ndarray of shape (1, n_features) or (n_classes, n_features)\n",
      " |      Coefficient of the features in the decision function.\n",
      " |\n",
      " |      `coef_` is of shape (1, n_features) when the given problem is binary.\n",
      " |      In particular, when `multi_class='multinomial'`, `coef_` corresponds\n",
      " |      to outcome 1 (True) and `-coef_` corresponds to outcome 0 (False).\n",
      " |\n",
      " |  intercept_ : ndarray of shape (1,) or (n_classes,)\n",
      " |      Intercept (a.k.a. bias) added to the decision function.\n",
      " |\n",
      " |      If `fit_intercept` is set to False, the intercept is set to zero.\n",
      " |      `intercept_` is of shape (1,) when the given problem is binary.\n",
      " |      In particular, when `multi_class='multinomial'`, `intercept_`\n",
      " |      corresponds to outcome 1 (True) and `-intercept_` corresponds to\n",
      " |      outcome 0 (False).\n",
      " |\n",
      " |  n_features_in_ : int\n",
      " |      Number of features seen during :term:`fit`.\n",
      " |\n",
      " |      .. versionadded:: 0.24\n",
      " |\n",
      " |  feature_names_in_ : ndarray of shape (`n_features_in_`,)\n",
      " |      Names of features seen during :term:`fit`. Defined only when `X`\n",
      " |      has feature names that are all strings.\n",
      " |\n",
      " |      .. versionadded:: 1.0\n",
      " |\n",
      " |  n_iter_ : ndarray of shape (n_classes,) or (1, )\n",
      " |      Actual number of iterations for all classes. If binary or multinomial,\n",
      " |      it returns only 1 element. For liblinear solver, only the maximum\n",
      " |      number of iteration across all classes is given.\n",
      " |\n",
      " |      .. versionchanged:: 0.20\n",
      " |\n",
      " |          In SciPy <= 1.0.0 the number of lbfgs iterations may exceed\n",
      " |          ``max_iter``. ``n_iter_`` will now report at most ``max_iter``.\n",
      " |\n",
      " |  See Also\n",
      " |  --------\n",
      " |  SGDClassifier : Incrementally trained logistic regression (when given\n",
      " |      the parameter ``loss=\"log_loss\"``).\n",
      " |  LogisticRegressionCV : Logistic regression with built-in cross validation.\n",
      " |\n",
      " |  Notes\n",
      " |  -----\n",
      " |  The underlying C implementation uses a random number generator to\n",
      " |  select features when fitting the model. It is thus not uncommon,\n",
      " |  to have slightly different results for the same input data. If\n",
      " |  that happens, try with a smaller tol parameter.\n",
      " |\n",
      " |  Predict output may not match that of standalone liblinear in certain\n",
      " |  cases. See :ref:`differences from liblinear <liblinear_differences>`\n",
      " |  in the narrative documentation.\n",
      " |\n",
      " |  References\n",
      " |  ----------\n",
      " |\n",
      " |  L-BFGS-B -- Software for Large-scale Bound-constrained Optimization\n",
      " |      Ciyou Zhu, Richard Byrd, Jorge Nocedal and Jose Luis Morales.\n",
      " |      http://users.iems.northwestern.edu/~nocedal/lbfgsb.html\n",
      " |\n",
      " |  LIBLINEAR -- A Library for Large Linear Classification\n",
      " |      https://www.csie.ntu.edu.tw/~cjlin/liblinear/\n",
      " |\n",
      " |  SAG -- Mark Schmidt, Nicolas Le Roux, and Francis Bach\n",
      " |      Minimizing Finite Sums with the Stochastic Average Gradient\n",
      " |      https://hal.inria.fr/hal-00860051/document\n",
      " |\n",
      " |  SAGA -- Defazio, A., Bach F. & Lacoste-Julien S. (2014).\n",
      " |          :arxiv:`\"SAGA: A Fast Incremental Gradient Method With Support\n",
      " |          for Non-Strongly Convex Composite Objectives\" <1407.0202>`\n",
      " |\n",
      " |  Hsiang-Fu Yu, Fang-Lan Huang, Chih-Jen Lin (2011). Dual coordinate descent\n",
      " |      methods for logistic regression and maximum entropy models.\n",
      " |      Machine Learning 85(1-2):41-75.\n",
      " |      https://www.csie.ntu.edu.tw/~cjlin/papers/maxent_dual.pdf\n",
      " |\n",
      " |  Examples\n",
      " |  --------\n",
      " |  >>> from sklearn.datasets import load_iris\n",
      " |  >>> from sklearn.linear_model import LogisticRegression\n",
      " |  >>> X, y = load_iris(return_X_y=True)\n",
      " |  >>> clf = LogisticRegression(random_state=0).fit(X, y)\n",
      " |  >>> clf.predict(X[:2, :])\n",
      " |  array([0, 0])\n",
      " |  >>> clf.predict_proba(X[:2, :])\n",
      " |  array([[9.8...e-01, 1.8...e-02, 1.4...e-08],\n",
      " |         [9.7...e-01, 2.8...e-02, ...e-08]])\n",
      " |  >>> clf.score(X, y)\n",
      " |  0.97...\n",
      " |\n",
      " |  For a comaprison of the LogisticRegression with other classifiers see:\n",
      " |  :ref:`sphx_glr_auto_examples_classification_plot_classification_probability.py`.\n",
      " |\n",
      " |  Method resolution order:\n",
      " |      LogisticRegression\n",
      " |      sklearn.linear_model._base.LinearClassifierMixin\n",
      " |      sklearn.base.ClassifierMixin\n",
      " |      sklearn.linear_model._base.SparseCoefMixin\n",
      " |      sklearn.base.BaseEstimator\n",
      " |      sklearn.utils._estimator_html_repr._HTMLDocumentationLinkMixin\n",
      " |      sklearn.utils._metadata_requests._MetadataRequester\n",
      " |      builtins.object\n",
      " |\n",
      " |  Methods defined here:\n",
      " |\n",
      " |  __init__(self, penalty='l2', *, dual=False, tol=0.0001, C=1.0, fit_intercept=True, intercept_scaling=1, class_weight=None, random_state=None, solver='lbfgs', max_iter=100, multi_class='deprecated', verbose=0, warm_start=False, n_jobs=None, l1_ratio=None)\n",
      " |      Initialize self.  See help(type(self)) for accurate signature.\n",
      " |\n",
      " |  __sklearn_tags__(self)\n",
      " |\n",
      " |  fit(self, X, y, sample_weight=None)\n",
      " |      Fit the model according to the given training data.\n",
      " |\n",
      " |      Parameters\n",
      " |      ----------\n",
      " |      X : {array-like, sparse matrix} of shape (n_samples, n_features)\n",
      " |          Training vector, where `n_samples` is the number of samples and\n",
      " |          `n_features` is the number of features.\n",
      " |\n",
      " |      y : array-like of shape (n_samples,)\n",
      " |          Target vector relative to X.\n",
      " |\n",
      " |      sample_weight : array-like of shape (n_samples,) default=None\n",
      " |          Array of weights that are assigned to individual samples.\n",
      " |          If not provided, then each sample is given unit weight.\n",
      " |\n",
      " |          .. versionadded:: 0.17\n",
      " |             *sample_weight* support to LogisticRegression.\n",
      " |\n",
      " |      Returns\n",
      " |      -------\n",
      " |      self\n",
      " |          Fitted estimator.\n",
      " |\n",
      " |      Notes\n",
      " |      -----\n",
      " |      The SAGA solver supports both float64 and float32 bit arrays.\n",
      " |\n",
      " |  predict_log_proba(self, X)\n",
      " |      Predict logarithm of probability estimates.\n",
      " |\n",
      " |      The returned estimates for all classes are ordered by the\n",
      " |      label of classes.\n",
      " |\n",
      " |      Parameters\n",
      " |      ----------\n",
      " |      X : array-like of shape (n_samples, n_features)\n",
      " |          Vector to be scored, where `n_samples` is the number of samples and\n",
      " |          `n_features` is the number of features.\n",
      " |\n",
      " |      Returns\n",
      " |      -------\n",
      " |      T : array-like of shape (n_samples, n_classes)\n",
      " |          Returns the log-probability of the sample for each class in the\n",
      " |          model, where classes are ordered as they are in ``self.classes_``.\n",
      " |\n",
      " |  predict_proba(self, X)\n",
      " |      Probability estimates.\n",
      " |\n",
      " |      The returned estimates for all classes are ordered by the\n",
      " |      label of classes.\n",
      " |\n",
      " |      For a multi_class problem, if multi_class is set to be \"multinomial\"\n",
      " |      the softmax function is used to find the predicted probability of\n",
      " |      each class.\n",
      " |      Else use a one-vs-rest approach, i.e. calculate the probability\n",
      " |      of each class assuming it to be positive using the logistic function\n",
      " |      and normalize these values across all the classes.\n",
      " |\n",
      " |      Parameters\n",
      " |      ----------\n",
      " |      X : array-like of shape (n_samples, n_features)\n",
      " |          Vector to be scored, where `n_samples` is the number of samples and\n",
      " |          `n_features` is the number of features.\n",
      " |\n",
      " |      Returns\n",
      " |      -------\n",
      " |      T : array-like of shape (n_samples, n_classes)\n",
      " |          Returns the probability of the sample for each class in the model,\n",
      " |          where classes are ordered as they are in ``self.classes_``.\n",
      " |\n",
      " |  set_fit_request(self: sklearn.linear_model._logistic.LogisticRegression, *, sample_weight: Union[bool, NoneType, str] = '$UNCHANGED$') -> sklearn.linear_model._logistic.LogisticRegression from sklearn.utils._metadata_requests.RequestMethod.__get__.<locals>\n",
      " |      Request metadata passed to the ``fit`` method.\n",
      " |\n",
      " |      Note that this method is only relevant if\n",
      " |      ``enable_metadata_routing=True`` (see :func:`sklearn.set_config`).\n",
      " |      Please see :ref:`User Guide <metadata_routing>` on how the routing\n",
      " |      mechanism works.\n",
      " |\n",
      " |      The options for each parameter are:\n",
      " |\n",
      " |      - ``True``: metadata is requested, and passed to ``fit`` if provided. The request is ignored if metadata is not provided.\n",
      " |\n",
      " |      - ``False``: metadata is not requested and the meta-estimator will not pass it to ``fit``.\n",
      " |\n",
      " |      - ``None``: metadata is not requested, and the meta-estimator will raise an error if the user provides it.\n",
      " |\n",
      " |      - ``str``: metadata should be passed to the meta-estimator with this given alias instead of the original name.\n",
      " |\n",
      " |      The default (``sklearn.utils.metadata_routing.UNCHANGED``) retains the\n",
      " |      existing request. This allows you to change the request for some\n",
      " |      parameters and not others.\n",
      " |\n",
      " |      .. versionadded:: 1.3\n",
      " |\n",
      " |      .. note::\n",
      " |          This method is only relevant if this estimator is used as a\n",
      " |          sub-estimator of a meta-estimator, e.g. used inside a\n",
      " |          :class:`~sklearn.pipeline.Pipeline`. Otherwise it has no effect.\n",
      " |\n",
      " |      Parameters\n",
      " |      ----------\n",
      " |      sample_weight : str, True, False, or None,                     default=sklearn.utils.metadata_routing.UNCHANGED\n",
      " |          Metadata routing for ``sample_weight`` parameter in ``fit``.\n",
      " |\n",
      " |      Returns\n",
      " |      -------\n",
      " |      self : object\n",
      " |          The updated object.\n",
      " |\n",
      " |  set_score_request(self: sklearn.linear_model._logistic.LogisticRegression, *, sample_weight: Union[bool, NoneType, str] = '$UNCHANGED$') -> sklearn.linear_model._logistic.LogisticRegression from sklearn.utils._metadata_requests.RequestMethod.__get__.<locals>\n",
      " |      Request metadata passed to the ``score`` method.\n",
      " |\n",
      " |      Note that this method is only relevant if\n",
      " |      ``enable_metadata_routing=True`` (see :func:`sklearn.set_config`).\n",
      " |      Please see :ref:`User Guide <metadata_routing>` on how the routing\n",
      " |      mechanism works.\n",
      " |\n",
      " |      The options for each parameter are:\n",
      " |\n",
      " |      - ``True``: metadata is requested, and passed to ``score`` if provided. The request is ignored if metadata is not provided.\n",
      " |\n",
      " |      - ``False``: metadata is not requested and the meta-estimator will not pass it to ``score``.\n",
      " |\n",
      " |      - ``None``: metadata is not requested, and the meta-estimator will raise an error if the user provides it.\n",
      " |\n",
      " |      - ``str``: metadata should be passed to the meta-estimator with this given alias instead of the original name.\n",
      " |\n",
      " |      The default (``sklearn.utils.metadata_routing.UNCHANGED``) retains the\n",
      " |      existing request. This allows you to change the request for some\n",
      " |      parameters and not others.\n",
      " |\n",
      " |      .. versionadded:: 1.3\n",
      " |\n",
      " |      .. note::\n",
      " |          This method is only relevant if this estimator is used as a\n",
      " |          sub-estimator of a meta-estimator, e.g. used inside a\n",
      " |          :class:`~sklearn.pipeline.Pipeline`. Otherwise it has no effect.\n",
      " |\n",
      " |      Parameters\n",
      " |      ----------\n",
      " |      sample_weight : str, True, False, or None,                     default=sklearn.utils.metadata_routing.UNCHANGED\n",
      " |          Metadata routing for ``sample_weight`` parameter in ``score``.\n",
      " |\n",
      " |      Returns\n",
      " |      -------\n",
      " |      self : object\n",
      " |          The updated object.\n",
      " |\n",
      " |  ----------------------------------------------------------------------\n",
      " |  Data and other attributes defined here:\n",
      " |\n",
      " |  __annotations__ = {'_parameter_constraints': <class 'dict'>}\n",
      " |\n",
      " |  ----------------------------------------------------------------------\n",
      " |  Methods inherited from sklearn.linear_model._base.LinearClassifierMixin:\n",
      " |\n",
      " |  decision_function(self, X)\n",
      " |      Predict confidence scores for samples.\n",
      " |\n",
      " |      The confidence score for a sample is proportional to the signed\n",
      " |      distance of that sample to the hyperplane.\n",
      " |\n",
      " |      Parameters\n",
      " |      ----------\n",
      " |      X : {array-like, sparse matrix} of shape (n_samples, n_features)\n",
      " |          The data matrix for which we want to get the confidence scores.\n",
      " |\n",
      " |      Returns\n",
      " |      -------\n",
      " |      scores : ndarray of shape (n_samples,) or (n_samples, n_classes)\n",
      " |          Confidence scores per `(n_samples, n_classes)` combination. In the\n",
      " |          binary case, confidence score for `self.classes_[1]` where >0 means\n",
      " |          this class would be predicted.\n",
      " |\n",
      " |  predict(self, X)\n",
      " |      Predict class labels for samples in X.\n",
      " |\n",
      " |      Parameters\n",
      " |      ----------\n",
      " |      X : {array-like, sparse matrix} of shape (n_samples, n_features)\n",
      " |          The data matrix for which we want to get the predictions.\n",
      " |\n",
      " |      Returns\n",
      " |      -------\n",
      " |      y_pred : ndarray of shape (n_samples,)\n",
      " |          Vector containing the class labels for each sample.\n",
      " |\n",
      " |  ----------------------------------------------------------------------\n",
      " |  Methods inherited from sklearn.base.ClassifierMixin:\n",
      " |\n",
      " |  score(self, X, y, sample_weight=None)\n",
      " |      Return the mean accuracy on the given test data and labels.\n",
      " |\n",
      " |      In multi-label classification, this is the subset accuracy\n",
      " |      which is a harsh metric since you require for each sample that\n",
      " |      each label set be correctly predicted.\n",
      " |\n",
      " |      Parameters\n",
      " |      ----------\n",
      " |      X : array-like of shape (n_samples, n_features)\n",
      " |          Test samples.\n",
      " |\n",
      " |      y : array-like of shape (n_samples,) or (n_samples, n_outputs)\n",
      " |          True labels for `X`.\n",
      " |\n",
      " |      sample_weight : array-like of shape (n_samples,), default=None\n",
      " |          Sample weights.\n",
      " |\n",
      " |      Returns\n",
      " |      -------\n",
      " |      score : float\n",
      " |          Mean accuracy of ``self.predict(X)`` w.r.t. `y`.\n",
      " |\n",
      " |  ----------------------------------------------------------------------\n",
      " |  Data descriptors inherited from sklearn.base.ClassifierMixin:\n",
      " |\n",
      " |  __dict__\n",
      " |      dictionary for instance variables\n",
      " |\n",
      " |  __weakref__\n",
      " |      list of weak references to the object\n",
      " |\n",
      " |  ----------------------------------------------------------------------\n",
      " |  Methods inherited from sklearn.linear_model._base.SparseCoefMixin:\n",
      " |\n",
      " |  densify(self)\n",
      " |      Convert coefficient matrix to dense array format.\n",
      " |\n",
      " |      Converts the ``coef_`` member (back) to a numpy.ndarray. This is the\n",
      " |      default format of ``coef_`` and is required for fitting, so calling\n",
      " |      this method is only required on models that have previously been\n",
      " |      sparsified; otherwise, it is a no-op.\n",
      " |\n",
      " |      Returns\n",
      " |      -------\n",
      " |      self\n",
      " |          Fitted estimator.\n",
      " |\n",
      " |  sparsify(self)\n",
      " |      Convert coefficient matrix to sparse format.\n",
      " |\n",
      " |      Converts the ``coef_`` member to a scipy.sparse matrix, which for\n",
      " |      L1-regularized models can be much more memory- and storage-efficient\n",
      " |      than the usual numpy.ndarray representation.\n",
      " |\n",
      " |      The ``intercept_`` member is not converted.\n",
      " |\n",
      " |      Returns\n",
      " |      -------\n",
      " |      self\n",
      " |          Fitted estimator.\n",
      " |\n",
      " |      Notes\n",
      " |      -----\n",
      " |      For non-sparse models, i.e. when there are not many zeros in ``coef_``,\n",
      " |      this may actually *increase* memory usage, so use this method with\n",
      " |      care. A rule of thumb is that the number of zero elements, which can\n",
      " |      be computed with ``(coef_ == 0).sum()``, must be more than 50% for this\n",
      " |      to provide significant benefits.\n",
      " |\n",
      " |      After calling this method, further fitting with the partial_fit\n",
      " |      method (if any) will not work until you call densify.\n",
      " |\n",
      " |  ----------------------------------------------------------------------\n",
      " |  Methods inherited from sklearn.base.BaseEstimator:\n",
      " |\n",
      " |  __getstate__(self)\n",
      " |      Helper for pickle.\n",
      " |\n",
      " |  __repr__(self, N_CHAR_MAX=700)\n",
      " |      Return repr(self).\n",
      " |\n",
      " |  __setstate__(self, state)\n",
      " |\n",
      " |  __sklearn_clone__(self)\n",
      " |\n",
      " |  get_params(self, deep=True)\n",
      " |      Get parameters for this estimator.\n",
      " |\n",
      " |      Parameters\n",
      " |      ----------\n",
      " |      deep : bool, default=True\n",
      " |          If True, will return the parameters for this estimator and\n",
      " |          contained subobjects that are estimators.\n",
      " |\n",
      " |      Returns\n",
      " |      -------\n",
      " |      params : dict\n",
      " |          Parameter names mapped to their values.\n",
      " |\n",
      " |  set_params(self, **params)\n",
      " |      Set the parameters of this estimator.\n",
      " |\n",
      " |      The method works on simple estimators as well as on nested objects\n",
      " |      (such as :class:`~sklearn.pipeline.Pipeline`). The latter have\n",
      " |      parameters of the form ``<component>__<parameter>`` so that it's\n",
      " |      possible to update each component of a nested object.\n",
      " |\n",
      " |      Parameters\n",
      " |      ----------\n",
      " |      **params : dict\n",
      " |          Estimator parameters.\n",
      " |\n",
      " |      Returns\n",
      " |      -------\n",
      " |      self : estimator instance\n",
      " |          Estimator instance.\n",
      " |\n",
      " |  ----------------------------------------------------------------------\n",
      " |  Methods inherited from sklearn.utils._metadata_requests._MetadataRequester:\n",
      " |\n",
      " |  get_metadata_routing(self)\n",
      " |      Get metadata routing of this object.\n",
      " |\n",
      " |      Please check :ref:`User Guide <metadata_routing>` on how the routing\n",
      " |      mechanism works.\n",
      " |\n",
      " |      Returns\n",
      " |      -------\n",
      " |      routing : MetadataRequest\n",
      " |          A :class:`~sklearn.utils.metadata_routing.MetadataRequest` encapsulating\n",
      " |          routing information.\n",
      " |\n",
      " |  ----------------------------------------------------------------------\n",
      " |  Class methods inherited from sklearn.utils._metadata_requests._MetadataRequester:\n",
      " |\n",
      " |  __init_subclass__(**kwargs)\n",
      " |      Set the ``set_{method}_request`` methods.\n",
      " |\n",
      " |      This uses PEP-487 [1]_ to set the ``set_{method}_request`` methods. It\n",
      " |      looks for the information available in the set default values which are\n",
      " |      set using ``__metadata_request__*`` class attributes, or inferred\n",
      " |      from method signatures.\n",
      " |\n",
      " |      The ``__metadata_request__*`` class attributes are used when a method\n",
      " |      does not explicitly accept a metadata through its arguments or if the\n",
      " |      developer would like to specify a request value for those metadata\n",
      " |      which are different from the default ``None``.\n",
      " |\n",
      " |      References\n",
      " |      ----------\n",
      " |      .. [1] https://www.python.org/dev/peps/pep-0487\n",
      "\n"
     ]
    }
   ],
   "source": [
    "help(LogisticRegression)"
   ]
  },
  {
   "cell_type": "markdown",
   "metadata": {},
   "source": [
    "# Mudcard"
   ]
  },
  {
   "cell_type": "code",
   "execution_count": null,
   "metadata": {},
   "outputs": [],
   "source": []
  }
 ],
 "metadata": {
  "celltoolbar": "Slideshow",
  "kernelspec": {
   "display_name": "Python 3 (ipykernel)",
   "language": "python",
   "name": "python3"
  },
  "language_info": {
   "codemirror_mode": {
    "name": "ipython",
    "version": 3
   },
   "file_extension": ".py",
   "mimetype": "text/x-python",
   "name": "python",
   "nbconvert_exporter": "python",
   "pygments_lexer": "ipython3",
   "version": "3.12.10"
  }
 },
 "nbformat": 4,
 "nbformat_minor": 4
}
